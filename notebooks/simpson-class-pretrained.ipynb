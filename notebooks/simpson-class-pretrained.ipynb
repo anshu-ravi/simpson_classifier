{
 "cells": [
  {
   "cell_type": "code",
   "execution_count": 1,
   "id": "49172939",
   "metadata": {
    "execution": {
     "iopub.execute_input": "2023-09-11T08:31:25.437130Z",
     "iopub.status.busy": "2023-09-11T08:31:25.435983Z",
     "iopub.status.idle": "2023-09-11T08:31:26.427765Z",
     "shell.execute_reply": "2023-09-11T08:31:26.426687Z"
    },
    "papermill": {
     "duration": 1.00213,
     "end_time": "2023-09-11T08:31:26.430390",
     "exception": false,
     "start_time": "2023-09-11T08:31:25.428260",
     "status": "completed"
    },
    "tags": []
   },
   "outputs": [
    {
     "name": "stderr",
     "output_type": "stream",
     "text": [
      "/opt/conda/lib/python3.10/site-packages/scipy/__init__.py:146: UserWarning: A NumPy version >=1.16.5 and <1.23.0 is required for this version of SciPy (detected version 1.23.5\n",
      "  warnings.warn(f\"A NumPy version >={np_minversion} and <{np_maxversion}\"\n"
     ]
    }
   ],
   "source": [
    "import os\n",
    "import random\n",
    "from sklearn.model_selection import train_test_split"
   ]
  },
  {
   "cell_type": "code",
   "execution_count": 2,
   "id": "b8d76ee9",
   "metadata": {
    "execution": {
     "iopub.execute_input": "2023-09-11T08:31:26.444002Z",
     "iopub.status.busy": "2023-09-11T08:31:26.443180Z",
     "iopub.status.idle": "2023-09-11T08:31:28.376429Z",
     "shell.execute_reply": "2023-09-11T08:31:28.375427Z"
    },
    "papermill": {
     "duration": 1.942119,
     "end_time": "2023-09-11T08:31:28.378857",
     "exception": false,
     "start_time": "2023-09-11T08:31:26.436738",
     "status": "completed"
    },
    "tags": []
   },
   "outputs": [],
   "source": [
    "map_characters = {0: 'abraham_grampa_simpson', \n",
    "                  1: 'apu_nahasapeemapetilon', 2: 'bart_simpson', \n",
    "                  3: 'charles_montgomery_burns', 4: 'chief_wiggum', \n",
    "                  5: 'comic_book_guy', 6: 'edna_krabappel', 7: 'homer_simpson', \n",
    "                  8: 'kent_brockman', 9: 'krusty_the_clown', 10: 'lisa_simpson', \n",
    "                  11: 'marge_simpson', 12: 'milhouse_van_houten', \n",
    "                  13: 'moe_szyslak', 14: 'ned_flanders', 15: 'nelson_muntz', \n",
    "                  16: 'principal_skinner', 17: 'sideshow_bob'}\n",
    "\n",
    "data_folder = \"/kaggle/input/the-simpsons-characters-dataset/simpsons_dataset\"\n",
    "class_names = map_characters.values()\n",
    "num_classes = len(class_names)\n",
    "\n",
    "# Create a list to hold the paths and labels of all images\n",
    "all_image_paths = []\n",
    "all_labels = []\n",
    "\n",
    "for class_idx, class_name in enumerate(class_names):\n",
    "    class_path = os.path.join(data_folder, class_name)\n",
    "    class_image_paths = [os.path.join(class_path, img_name) for img_name in os.listdir(class_path)]\n",
    "    all_image_paths.extend(class_image_paths)\n",
    "    all_labels.extend([class_idx] * len(class_image_paths))\n",
    "\n",
    "# Perform the stratified train-test split\n",
    "train_image_paths, dev_image_paths, train_labels, dev_labels = train_test_split(\n",
    "    all_image_paths, all_labels, test_size=0.2, stratify=all_labels, random_state=42\n",
    ")\n"
   ]
  },
  {
   "cell_type": "code",
   "execution_count": 3,
   "id": "b9953b5c",
   "metadata": {
    "execution": {
     "iopub.execute_input": "2023-09-11T08:31:28.392712Z",
     "iopub.status.busy": "2023-09-11T08:31:28.391139Z",
     "iopub.status.idle": "2023-09-11T08:31:31.569906Z",
     "shell.execute_reply": "2023-09-11T08:31:31.568910Z"
    },
    "papermill": {
     "duration": 3.187723,
     "end_time": "2023-09-11T08:31:31.572364",
     "exception": false,
     "start_time": "2023-09-11T08:31:28.384641",
     "status": "completed"
    },
    "tags": []
   },
   "outputs": [],
   "source": [
    "import torch\n",
    "import torch.nn as nn\n",
    "import torchvision.transforms as transforms\n",
    "import torchvision.models as models\n",
    "import torch.optim as optim\n",
    "from torch.utils.data import DataLoader, Dataset\n",
    "from torchvision.io import read_image\n",
    "from torchvision.transforms.functional import InterpolationMode\n",
    "from tqdm import tqdm\n",
    "from PIL import Image"
   ]
  },
  {
   "cell_type": "code",
   "execution_count": 4,
   "id": "09b12b32",
   "metadata": {
    "execution": {
     "iopub.execute_input": "2023-09-11T08:31:31.586352Z",
     "iopub.status.busy": "2023-09-11T08:31:31.584676Z",
     "iopub.status.idle": "2023-09-11T08:31:31.591942Z",
     "shell.execute_reply": "2023-09-11T08:31:31.591052Z"
    },
    "papermill": {
     "duration": 0.015943,
     "end_time": "2023-09-11T08:31:31.594083",
     "exception": false,
     "start_time": "2023-09-11T08:31:31.578140",
     "status": "completed"
    },
    "tags": []
   },
   "outputs": [],
   "source": [
    "# Define your dataset class\n",
    "class SimpsonsDataset(Dataset):\n",
    "    def __init__(self, image_paths, labels, transform=None):\n",
    "        self.image_paths = image_paths\n",
    "        self.labels = labels\n",
    "        self.transform = transform\n",
    "\n",
    "    def __len__(self):\n",
    "        return len(self.image_paths)\n",
    "\n",
    "    def __getitem__(self, idx):\n",
    "        image_path = self.image_paths[idx]\n",
    "        label = self.labels[idx]\n",
    "        image = Image.open(image_path)\n",
    "        if self.transform:\n",
    "            image = self.transform(image)\n",
    "        return image, label"
   ]
  },
  {
   "cell_type": "code",
   "execution_count": 5,
   "id": "22c40415",
   "metadata": {
    "_kg_hide-input": true,
    "execution": {
     "iopub.execute_input": "2023-09-11T08:31:31.605913Z",
     "iopub.status.busy": "2023-09-11T08:31:31.605631Z",
     "iopub.status.idle": "2023-09-11T08:31:31.612432Z",
     "shell.execute_reply": "2023-09-11T08:31:31.611486Z"
    },
    "papermill": {
     "duration": 0.015386,
     "end_time": "2023-09-11T08:31:31.614706",
     "exception": false,
     "start_time": "2023-09-11T08:31:31.599320",
     "status": "completed"
    },
    "tags": []
   },
   "outputs": [],
   "source": [
    "# Paths to save the trained model\n",
    "model_save_path = '/kaggle/working/model.pth'\n",
    "batch_size = 128\n",
    "\n",
    "# Define transformations\n",
    "transform = transforms.Compose([\n",
    "    transforms.Resize((224, 224), interpolation=InterpolationMode.BICUBIC),\n",
    "    transforms.ToTensor(),\n",
    "    transforms.Normalize(mean=[0.485, 0.456, 0.406], std=[0.229, 0.224, 0.225]),\n",
    "])\n",
    "\n",
    "# Create datasets and dataloaders for train and test sets\n",
    "train_dataset = SimpsonsDataset(train_image_paths, train_labels, transform=transform)\n",
    "dev_dataset = SimpsonsDataset(dev_image_paths, dev_labels, transform=transform)\n",
    "\n",
    "train_dataloader = DataLoader(train_dataset, batch_size=batch_size, shuffle=True)\n",
    "dev_dataloader = DataLoader(dev_dataset, batch_size=batch_size, shuffle=False)"
   ]
  },
  {
   "cell_type": "code",
   "execution_count": 6,
   "id": "1ea99c3b",
   "metadata": {
    "execution": {
     "iopub.execute_input": "2023-09-11T08:31:31.626357Z",
     "iopub.status.busy": "2023-09-11T08:31:31.626090Z",
     "iopub.status.idle": "2023-09-11T08:31:36.736877Z",
     "shell.execute_reply": "2023-09-11T08:31:36.735770Z"
    },
    "papermill": {
     "duration": 5.120066,
     "end_time": "2023-09-11T08:31:36.740050",
     "exception": false,
     "start_time": "2023-09-11T08:31:31.619984",
     "status": "completed"
    },
    "tags": []
   },
   "outputs": [
    {
     "name": "stderr",
     "output_type": "stream",
     "text": [
      "/opt/conda/lib/python3.10/site-packages/torchvision/models/_utils.py:223: UserWarning: Arguments other than a weight enum or `None` for 'weights' are deprecated since 0.13 and may be removed in the future. The current behavior is equivalent to passing `weights=ResNet50_Weights.IMAGENET1K_V1`. You can also use `weights=ResNet50_Weights.DEFAULT` to get the most up-to-date weights.\n",
      "  warnings.warn(msg)\n",
      "Downloading: \"https://download.pytorch.org/models/resnet50-0676ba61.pth\" to /root/.cache/torch/hub/checkpoints/resnet50-0676ba61.pth\n",
      "100%|██████████| 97.8M/97.8M [00:00<00:00, 177MB/s]\n"
     ]
    }
   ],
   "source": [
    "# Load the pretrained ResNet-50 model\n",
    "resnet = models.resnet50(weights=True)\n",
    "\n",
    "# Modify the final fully connected layer\n",
    "num_ftrs = resnet.fc.in_features\n",
    "resnet.fc = nn.Linear(num_ftrs, num_classes)\n",
    "\n",
    "if False: \n",
    "    saved_state_dict = torch.load(\"/kaggle/input/preds/model3.pth\")\n",
    "    resnet.load_state_dict(saved_state_dict)"
   ]
  },
  {
   "cell_type": "code",
   "execution_count": 7,
   "id": "ce165464",
   "metadata": {
    "execution": {
     "iopub.execute_input": "2023-09-11T08:31:36.766217Z",
     "iopub.status.busy": "2023-09-11T08:31:36.765539Z",
     "iopub.status.idle": "2023-09-11T08:31:36.823760Z",
     "shell.execute_reply": "2023-09-11T08:31:36.822765Z"
    },
    "papermill": {
     "duration": 0.072542,
     "end_time": "2023-09-11T08:31:36.826720",
     "exception": false,
     "start_time": "2023-09-11T08:31:36.754178",
     "status": "completed"
    },
    "tags": []
   },
   "outputs": [],
   "source": [
    "# Set up training\n",
    "device = torch.device(\"cuda\" if torch.cuda.is_available() else \"cpu\")\n",
    "resnet.to(device)\n",
    "\n",
    "criterion = nn.CrossEntropyLoss()\n",
    "optimizer = optim.Adam(resnet.parameters(), lr=0.001, weight_decay=1e-5)"
   ]
  },
  {
   "cell_type": "code",
   "execution_count": 8,
   "id": "f6214800",
   "metadata": {
    "execution": {
     "iopub.execute_input": "2023-09-11T08:31:36.846456Z",
     "iopub.status.busy": "2023-09-11T08:31:36.845941Z",
     "iopub.status.idle": "2023-09-11T08:31:36.855124Z",
     "shell.execute_reply": "2023-09-11T08:31:36.854311Z"
    },
    "papermill": {
     "duration": 0.021617,
     "end_time": "2023-09-11T08:31:36.857637",
     "exception": false,
     "start_time": "2023-09-11T08:31:36.836020",
     "status": "completed"
    },
    "tags": []
   },
   "outputs": [],
   "source": [
    "# Train the model\n",
    "num_epochs = 70\n",
    "best_val_acc = 0\n",
    "best_state = None\n",
    "\n",
    "for epoch in range(num_epochs):\n",
    "    resnet.train()\n",
    "    running_loss = 0.0\n",
    "    for inputs, labels in tqdm(train_dataloader, desc=f\"Epoch {epoch+1}/{num_epochs}\"):\n",
    "        inputs, labels = inputs.to(device), labels.to(device)\n",
    "        optimizer.zero_grad()\n",
    "        outputs = resnet(inputs)\n",
    "        loss = criterion(outputs, labels)\n",
    "        loss.backward()\n",
    "        optimizer.step()\n",
    "        running_loss += loss.item()\n",
    "\n",
    "    print(f\"Epoch {epoch+1}/{num_epochs} - Loss: {running_loss / len(train_dataloader)}\")\n",
    "    \n",
    "    # Calculate validation loss and accuracy\n",
    "    resnet.eval()\n",
    "    val_loss = 0.0\n",
    "    correct = 0\n",
    "    total = 0\n",
    "    with torch.no_grad():\n",
    "        for inputs, labels in dev_dataloader:\n",
    "            inputs, labels = inputs.to(device), labels.to(device)\n",
    "            outputs = resnet(inputs)\n",
    "            loss = criterion(outputs, labels)\n",
    "            val_loss += loss.item()\n",
    "            _, predicted = outputs.max(1)\n",
    "            total += labels.size(0)\n",
    "            correct += predicted.eq(labels).sum().item()\n",
    "\n",
    "    val_loss /= len(dev_dataloader)\n",
    "    accuracy = correct / total\n",
    "    print(f\"Validation Loss: {val_loss:.4f} - Accuracy: {accuracy:.4f}\")\n",
    "    if accuracy > best_val_acc:\n",
    "        torch.save(resnet.state_dict(), model_save_path)\n",
    "        best_state = resnet.state_dict()\n",
    "        best_val_acc = accuracy\n",
    "\n",
    "    \n",
    "print(\"Training finished!\")\n"
   ]
  },
  {
   "cell_type": "code",
   "execution_count": 9,
   "id": "4781ddcd",
   "metadata": {
    "execution": {
     "iopub.execute_input": "2023-09-11T08:31:36.876597Z",
     "iopub.status.busy": "2023-09-11T08:31:36.876122Z",
     "iopub.status.idle": "2023-09-11T08:31:36.999721Z",
     "shell.execute_reply": "2023-09-11T08:31:36.998713Z"
    },
    "papermill": {
     "duration": 0.136463,
     "end_time": "2023-09-11T08:31:37.002781",
     "exception": false,
     "start_time": "2023-09-11T08:31:36.866318",
     "status": "completed"
    },
    "tags": []
   },
   "outputs": [],
   "source": [
    "import re\n",
    "import glob\n",
    "\n",
    "def extract_name(filename):\n",
    "    # Remove numbers and file extension using regular expressions\n",
    "    cleaned_name = re.sub(r'\\d+', '', filename)  # Remove numbers\n",
    "    cleaned_name = re.sub(r'\\.[^.]+$', '', cleaned_name)  # Remove file extension\n",
    "    cleaned_name = cleaned_name.strip('_')  # Remove leading/trailing underscores\n",
    "    \n",
    "    return cleaned_name\n",
    "\n",
    "\n",
    "test_dir = \"/kaggle/input/the-simpsons-characters-dataset/kaggle_simpson_testset/kaggle_simpson_testset/*.jpg\"\n",
    "image_paths = glob.glob(test_dir) \n",
    "\n",
    "test_path_list = []\n",
    "actual_labels = []\n",
    "\n",
    "for path in image_paths: \n",
    "    filename = path.split('/')[-1] # Getting only the file name\n",
    "    char_name = extract_name(filename) # Extracting the character name from the file name \n",
    "    if char_name in map_characters.values(): # Only storing the characters on which we trained our model\n",
    "        test_path_list.append(path) \n",
    "        actual_labels.append(char_name)\n",
    "\n",
    "map_characters_rev = {value: key for key, value in map_characters.items()}\n",
    "actual_labels_num = list(map(lambda x: map_characters_rev.get(x), actual_labels))"
   ]
  },
  {
   "cell_type": "code",
   "execution_count": 10,
   "id": "5bae6d8e",
   "metadata": {
    "execution": {
     "iopub.execute_input": "2023-09-11T08:31:37.020306Z",
     "iopub.status.busy": "2023-09-11T08:31:37.019971Z",
     "iopub.status.idle": "2023-09-11T08:31:37.024817Z",
     "shell.execute_reply": "2023-09-11T08:31:37.023869Z"
    },
    "papermill": {
     "duration": 0.014565,
     "end_time": "2023-09-11T08:31:37.027026",
     "exception": false,
     "start_time": "2023-09-11T08:31:37.012461",
     "status": "completed"
    },
    "tags": []
   },
   "outputs": [],
   "source": [
    "test_dataset = SimpsonsDataset(test_path_list, actual_labels_num, transform=transform)\n",
    "test_dataloader = DataLoader(test_dataset, batch_size=batch_size, shuffle=False)"
   ]
  },
  {
   "cell_type": "code",
   "execution_count": 11,
   "id": "8b19c4f6",
   "metadata": {
    "execution": {
     "iopub.execute_input": "2023-09-11T08:31:37.040995Z",
     "iopub.status.busy": "2023-09-11T08:31:37.040702Z",
     "iopub.status.idle": "2023-09-11T08:31:37.045426Z",
     "shell.execute_reply": "2023-09-11T08:31:37.044381Z"
    },
    "papermill": {
     "duration": 0.014451,
     "end_time": "2023-09-11T08:31:37.047785",
     "exception": false,
     "start_time": "2023-09-11T08:31:37.033334",
     "status": "completed"
    },
    "tags": []
   },
   "outputs": [],
   "source": [
    "# Calculate validation loss and accuracy\n",
    "\n",
    "resnet.eval()\n",
    "val_loss = 0.0\n",
    "correct = 0\n",
    "total = 0\n",
    "with torch.no_grad():\n",
    "    for inputs, labels in test_dataloader:\n",
    "        inputs, labels = inputs.to(device), labels.to(device)\n",
    "        outputs = resnet(inputs)\n",
    "        loss = criterion(outputs, labels)\n",
    "        val_loss += loss.item()\n",
    "        _, predicted = outputs.max(1)\n",
    "        total += labels.size(0)\n",
    "        correct += predicted.eq(labels).sum().item()\n",
    "    \n",
    "    val_loss /= len(test_dataloader)\n",
    "    accuracy = correct / total\n",
    "    print(f\"Test Loss: {val_loss:.4f} - Accuracy: {accuracy:.4f}\")"
   ]
  },
  {
   "cell_type": "code",
   "execution_count": null,
   "id": "f6719588",
   "metadata": {
    "papermill": {
     "duration": 0.00619,
     "end_time": "2023-09-11T08:31:37.060153",
     "exception": false,
     "start_time": "2023-09-11T08:31:37.053963",
     "status": "completed"
    },
    "tags": []
   },
   "outputs": [],
   "source": []
  }
 ],
 "kernelspec": {
  "display_name": "Python 3",
  "language": "python",
  "name": "python3"
 },
 "language_info": {
  "codemirror_mode": {
   "name": "ipython",
   "version": 3
  },
  "file_extension": ".py",
  "mimetype": "text/x-python",
  "name": "python",
  "nbconvert_exporter": "python",
  "pygments_lexer": "ipython3",
  "version": "3.6.4"
 },
 "metadata": {
  "kernelspec": {
   "display_name": "Python 3",
   "language": "python",
   "name": "python3"
  },
  "language_info": {
   "codemirror_mode": {
    "name": "ipython",
    "version": 3
   },
   "file_extension": ".py",
   "mimetype": "text/x-python",
   "name": "python",
   "nbconvert_exporter": "python",
   "pygments_lexer": "ipython3",
   "version": "3.10.12"
  },
  "papermill": {
   "default_parameters": {},
   "duration": 23.636586,
   "end_time": "2023-09-11T08:31:39.346777",
   "environment_variables": {},
   "exception": null,
   "input_path": "__notebook__.ipynb",
   "output_path": "__notebook__.ipynb",
   "parameters": {},
   "start_time": "2023-09-11T08:31:15.710191",
   "version": "2.4.0"
  }
 },
 "nbformat": 4,
 "nbformat_minor": 5
}
